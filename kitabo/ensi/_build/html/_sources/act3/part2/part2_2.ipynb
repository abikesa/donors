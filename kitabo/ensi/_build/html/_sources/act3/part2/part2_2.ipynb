{
 "cells": [
  {
   "cell_type": "markdown",
   "metadata": {},
   "source": [
    "(icd-codes)=\n",
    "# ICD Codes\n",
    " \n",
    "Our neural network has a node labelled \"exposure of interest.\" It is one that includes ICD codes for diagnoses that emerge onto a patients records over time, encoding crucial information about the efficacy of previous interventions, as well as the likelihood of future outcomes. Using large language models to extract these codes from electronic health records is one promising step. Another is the use of these models to identify uncoded phenotypes such as physical frailty and obesity.\n",
    "\n",
    "The **hacker ethos** is a mindset rooted in **curiosity, problem-solving, and a belief in openness, decentralization, and meritocracy**. It’s not about breaking into systems (as pop culture often portrays hackers), but rather about exploring, understanding, and pushing the limits of technology, often in innovative or unconventional ways. The ethos has strong connections to open-source culture, academia, and startup philosophy.\n",
    "\n",
    "### **Key Tenets of the Hacker Ethos:**\n",
    "1. **Curiosity & Exploration** – A hacker is driven by an innate desire to explore systems, whether they be software, hardware, or even institutions, to understand how they work and improve them. Our interests lie in the scientific enterprise, revealing its dynamics, overcoming its inefficiencies, and facilitating navigation by patient, careprovider, researcher, regulator, student, and citizen.\n",
    "   \n",
    "2. **Meritocracy Over Credentials** – Hackers value **what you can do** over **who you are** or what degrees you hold. Great ideas and skills matter more than official qualifications. Tokenization of activities that increase efficiency of information flow within the ecosystem of the scientific enterprise can be acknolwedged and tracked via `.git`\n",
    "\n",
    "3. **Creative Problem-Solving** – Hackers take pride in finding clever, often unconventional solutions to difficult problems (a.k.a. \"hacks\"). These solutions can be elegant workarounds, innovative algorithms, or ways to make systems work better. We believe our workaround IRB requirements, where analysts share `PAIRS@JH` scripts with collaborators and data guardians, who already have IRB approved access, cuts inefficiencies that compound on a daily time scale. \n",
    "\n",
    "4. **Decentralization & Open Access** – There’s a strong belief in **open knowledge**, freedom of information, and reducing gatekeeping. Open-source software (Linux, GNU, Python, etc.) is a direct product of this ethos. Our `PAIRS@JH` approach provides Python, AI-assistance, R, Stata, JavaScript, and HTML support and courses for students.\n",
    "\n",
    "5. **Autonomy & DIY Spirit** – The hacker ethos aligns with a **do-it-yourself** (DIY) mentality. Hackers build things themselves, often outside traditional institutions, preferring independence over corporate structures. The yellow node is \"outside\" the ecosystem, servicing as an interface for end-users who include those in the ecosystem: patient, careprovider, researcher, regulator, student, and citizen. The backend of the yellow node has `.csv` files and APIs, hosted on GitHub, with zero disclosure risk. \n",
    "\n",
    "6. **Efficiency & Optimization** – Good hackers hate inefficiency. They seek to make systems faster, more scalable, and more elegant, removing redundant steps. Nuff said. \n",
    "\n",
    "7. **Iteration & Rapid Prototyping** – Move fast, break things, learn, iterate. This mindset underpins modern **lean startup methodology**, which is why hacker culture meshes so well with Silicon Valley. But how can we bring this to the scientific enterprise of clinical and public health research?\n",
    "\n",
    "### **Paul Graham, Y Combinator, and the Hacker Ethos**\n",
    "Paul Graham’s background is deeply rooted in hacker culture. His essays emphasize how startups should function like hacker projects—lean, agile, and intellectually rigorous. Y Combinator itself operates on hacker principles:\n",
    "- **It funds outsiders** (college dropouts, self-taught programmers, non-traditional founders).\n",
    "- **It favors rapid iteration** (encouraging startups to launch early, learn from users, and pivot fast).\n",
    "- **It cuts through bureaucratic fluff** (offering small, no-nonsense investments and direct mentorship).\n",
    "- **It values technical founders** (historically, hackers have an advantage over businesspeople in Y Combinator).\n",
    "\n",
    "### **Famous Quotes that Capture the Hacker Ethos**\n",
    "- *“Hackers and painters have a lot in common.”* — Paul Graham\n",
    "- *“Information wants to be free.”* — Stewart Brand\n",
    "- *“The best way to predict the future is to invent it.”* — Alan Kay\n",
    "\n",
    "### **Where Else Do You See the Hacker Ethos?**\n",
    "- The open-source movement (Linux, GitHub, Bitcoin, etc.).\n",
    "- Early computing pioneers like the MIT AI Lab and Bell Labs.\n",
    "- Silicon Valley’s startup culture.\n",
    "- Ethical hacking and cybersecurity communities.\n",
    "- DIY hardware and maker movements (Arduino, Raspberry Pi).\n",
    "\n",
    "The hacker ethos is about **curiosity, independence, and a belief that intelligence and innovation should determine success—not credentials, bureaucracy, or traditional hierarchies.**\n",
    " \n"
   ]
  }
 ],
 "metadata": {
  "kernelspec": {
   "display_name": "myenv",
   "language": "python",
   "name": "python3"
  },
  "language_info": {
   "codemirror_mode": {
    "name": "ipython",
    "version": 3
   },
   "file_extension": ".py",
   "mimetype": "text/x-python",
   "name": "python",
   "nbconvert_exporter": "python",
   "pygments_lexer": "ipython3",
   "version": "3.12.4"
  },
  "widgets": {
   "application/vnd.jupyter.widget-state+json": {
    "state": {},
    "version_major": 2,
    "version_minor": 0
   }
  }
 },
 "nbformat": 4,
 "nbformat_minor": 4
}
