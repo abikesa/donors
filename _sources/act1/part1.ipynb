{
 "cells": [
  {
   "cell_type": "markdown",
   "metadata": {},
   "source": [
    "(information)=\n",
    "# Deception, -kσ ☭⚒🥁 \n",
    "\n",
    "\n",
    "\n",
    "<style>\n",
    "  /* Apply styles only to elements with the custom class */\n",
    "  .custom-details summary {\n",
    "    list-style: none;  /* Remove default dropdown triangle */\n",
    "    cursor: pointer;\n",
    "    font-weight: normal; /* Normal text weight */\n",
    "    display: inline-block;\n",
    "    padding: 5px 15px;\n",
    "    border: 2px dotted black; /* Dotted circle */\n",
    "    border-radius: 20px; /* Make it rounded */\n",
    "    text-align: center;\n",
    "    transition: color 0.3s ease-in-out; /* Smooth transition */\n",
    "  }\n",
    "\n",
    "  .custom-details summary:hover {\n",
    "    color: lightgray; /* Change text color on hover */\n",
    "  }\n",
    "\n",
    "  .custom-details summary::-webkit-details-marker {\n",
    "    display: none; /* Remove marker in WebKit (Chrome, Safari) */\n",
    "  }\n",
    "</style>\n",
    "\n",
    "<details class=\"custom-details\">\n",
    "  <summary>+ Expand</summary>\n",
    "\n",
    "<div style=\"display: flex; justify-content: center;\">\n",
    "    <iframe width=\"80%\" height=\"1000px\" src=\"../pdfs/massie_jama_2024.pdf\" title=\"PDF\" style=\"borders:none\" frameborder=\"0\" allow=\"accelerometer; autoplay; clipboard-write; encrypted-media; gyroscope; picture-in-picture\" allowfullscreen></iframe>\n",
    "</div>\n",
    "\n",
    "</details>\n",
    "\n",
    "<script>\n",
    "  document.addEventListener(\"DOMContentLoaded\", function() {\n",
    "    const details = document.querySelector(\".custom-details\");\n",
    "    const summary = details.querySelector(\"summary\");\n",
    "\n",
    "    details.addEventListener(\"toggle\", function() {\n",
    "      summary.textContent = details.open ? \"- Collapse\" : \"+ Expand\";\n",
    "    });\n",
    "  });\n",
    "</script>\n",
    "\n",
    "```{figure} https://www.ledr.com/colours/white.jpg\n",
    "---\n",
    "width: 1\n",
    "height: 1\n",
    "---\n",
    "_Static vs. Dynamic Presentation_. Authors typically have to commit to what data they will present to colleagues, reviewers, and the public. But clinicians and policy makers typically need to explore a combination of factors to make a personalized decision tailored to their situation. Our platform demonstrates this for the person who is considering donation, but it is applicable to any decision-making situation. We also critically consider the value of a control population for accurate and meaningful inferences {cite}`Massie2024`\n",
    "```\n"
   ]
  }
 ],
 "metadata": {
  "kernelspec": {
   "display_name": "myenv",
   "language": "python",
   "name": "python3"
  },
  "language_info": {
   "codemirror_mode": {
    "name": "ipython",
    "version": 3
   },
   "file_extension": ".py",
   "mimetype": "text/x-python",
   "name": "python",
   "nbconvert_exporter": "python",
   "pygments_lexer": "ipython3",
   "version": "3.12.4"
  },
  "widgets": {
   "application/vnd.jupyter.widget-state+json": {
    "state": {},
    "version_major": 2,
    "version_minor": 0
   }
  }
 },
 "nbformat": 4,
 "nbformat_minor": 4
}
